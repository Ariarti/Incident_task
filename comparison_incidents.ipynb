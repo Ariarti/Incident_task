{
 "cells": [
  {
   "cell_type": "code",
   "execution_count": 8,
   "metadata": {},
   "outputs": [
    {
     "name": "stdout",
     "output_type": "stream",
     "text": [
      "The lol.csv file was created!\n",
      "--- 29.930896043777466 seconds ---\n"
     ]
    }
   ],
   "source": [
    "import pandas as pd\n",
    "import numpy as np\n",
    "import time\n",
    "import re\n",
    "\n",
    "def comparison_incidents3(w_file, dt, r_file):\n",
    "    \"\"\" Создаёт .csv файл со столбцами инцидентов(id) и числом идентичных инцидентов(count) \n",
    "        по категориальным признакам, и заданной разнице по времени \"\"\"\n",
    "  \n",
    "    pattern_w_file = r\"\\w+[.]{1}csv\"\n",
    "    pattern_r_file = r\".+[.]{1}csv\"\n",
    "    if not re.match(pattern_w_file, w_file):\n",
    "        print(\"Неверное имя выходного файла!\")\n",
    "    elif not re.match(pattern_r_file, r_file):\n",
    "        print(\"Неверный формат входного файла!\")\n",
    "    else:  \n",
    "        try: \n",
    "            dt = abs(float(dt))\n",
    "            with open(r_file) as f:\n",
    "                d = dict()\n",
    "                for line in f:\n",
    "                    line = line.rstrip()\n",
    "                    s = line.split(\",\")\n",
    "                    if len(s) != 4:\n",
    "                        continue\n",
    "                    # Записываем в словарь в качестве ключа строку со значениями \n",
    "                    # категориальных признаков, а в качестве значений кортеж\n",
    "                    # со значением id и времени\n",
    "                    try:\n",
    "                        if str(s[1:-1]) not in d:\n",
    "                            d[str(s[1:-1])] = list()\n",
    "                            d[str(s[1:-1])].append((int(s[0]), float(s[3])))\n",
    "                        else:\n",
    "                            d[str(s[1:-1])].append((int(s[0]), float(s[3])))\n",
    "                    except ValueError:\n",
    "                        continue\n",
    "        except FileNotFoundError:\n",
    "            print(\"Такого файла не существует!\")\n",
    "        except ValueError:\n",
    "            print(\"Неверный фомат dt\")\n",
    "        else:\n",
    "            # Проходим по всем ключам d, если ключ содержит только одно значение, то\n",
    "            # данный id не имеет пар.\n",
    "            di = dict()\n",
    "            for i in d:\n",
    "                d[i] = sorted(d[i], key=lambda x: x[1], reverse=True)\n",
    "                if len(d[i]) == 1:\n",
    "                    di[d[i][0][0]] = 0\n",
    "                else:\n",
    "                    for k in range(len(d[i])):\n",
    "                        k1 = k + 1\n",
    "                        while k1 < len(d[i]):\n",
    "                            if 0 < (d[i][k][1] - d[i][k1][1]) < dt:\n",
    "                                if d[i][k][0] not in di:\n",
    "                                    di[d[i][k][0]] = 1\n",
    "                                else:\n",
    "                                    di[d[i][k][0]] += 1\n",
    "                            else:\n",
    "                                break\n",
    "                            k1 += 1\n",
    "                        if d[i][k][0] not in di:\n",
    "                            di[d[i][k][0]] = 0\n",
    "\n",
    "            dp = pd.DataFrame(di.items(), index = di.keys(), columns=['id', 'count'])\n",
    "            dp.sort_index(inplace=True)\n",
    "            dp.to_csv(w_file, index = False)\n",
    "            print(\"The \" + w_file + \" file was created!\")\n",
    "\n",
    "if __name__ == \"__main__\":\n",
    "    start_time = time.time()\n",
    "    comparison_incidents3(w_file=\"lol.csv\", dt=0.3, r_file=\"incidents.csv\")\n",
    "    print(\"--- %s seconds ---\" % (time.time() - start_time))"
   ]
  },
  {
   "cell_type": "code",
   "execution_count": 4,
   "metadata": {},
   "outputs": [],
   "source": [
    "M = 100\n",
    "N = 1000000\n",
    "df = pd.DataFrame({'feature1':np.random.randint(M, size=(N,)), 'feature2':np.random.randint(M, size=(N,)), 'time':np.random.rand(N)})\n",
    "df.to_csv('incidents.csv', index_label='id')"
   ]
  },
  {
   "cell_type": "code",
   "execution_count": null,
   "metadata": {},
   "outputs": [],
   "source": []
  }
 ],
 "metadata": {
  "kernelspec": {
   "display_name": "Python 3",
   "language": "python",
   "name": "python3"
  },
  "language_info": {
   "codemirror_mode": {
    "name": "ipython",
    "version": 3
   },
   "file_extension": ".py",
   "mimetype": "text/x-python",
   "name": "python",
   "nbconvert_exporter": "python",
   "pygments_lexer": "ipython3",
   "version": "3.8.3"
  }
 },
 "nbformat": 4,
 "nbformat_minor": 4
}
